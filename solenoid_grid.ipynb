{
 "cells": [
  {
   "cell_type": "markdown",
   "metadata": {},
   "source": [
    "### Creating and testing magnetic dipoles and grid system"
   ]
  },
  {
   "cell_type": "code",
   "execution_count": 21,
   "metadata": {},
   "outputs": [],
   "source": [
    "%matplotlib inline\n",
    "import numpy as np\n",
    "import matplotlib.pyplot as plt\n",
    "import matplotlib as mpl\n",
    "import matplotlib.colors as colors\n",
    "import time\n",
    "\n",
    "from Modules.muon import Muon\n",
    "from Modules.positron import Positron\n",
    "import Modules.functions as func\n",
    "\n",
    "from mpl_toolkits.mplot3d import Axes3D\n",
    "from scipy.optimize import curve_fit\n",
    "\n",
    "# Setting graph defaults to avoid repetition on each plot\n",
    "mpl.rcParams[\"axes.formatter.limits\"] = -2, 2  # Sets xticks to use exponents\n",
    "mpl.rcParams[\"axes.grid\"] = True  # Turns grid on\n",
    "mpl.rcParams[\"legend.loc\"] = \"best\"  # Turns legend on and autoplaces it"
   ]
  },
  {
   "cell_type": "markdown",
   "metadata": {},
   "source": [
    "### Dipole class\n",
    "Creates a dipole of some strength, with a given orientation and location\n",
    "The magnetic moment \"m\" is calculated by:\n",
    "$m = [r cos(\\theta), r sin(\\theta)]$<br>\n",
    "Where $r$ is the strength and $\\theta$ is the angle from the x axis<br>\n",
    "\n",
    "The method \"get_mag_field()\" returns the magnetic field due to the dipole at a given point in space."
   ]
  },
  {
   "cell_type": "code",
   "execution_count": 22,
   "metadata": {},
   "outputs": [],
   "source": [
    "class Dipole(object):\n",
    "    \"\"\"\n",
    "    Creates dipole:\n",
    "    location = (pos_x, pos_y)\n",
    "    orientation and length = pole_separation\n",
    "    \"\"\"\n",
    "    count = 0\n",
    "    def __init__(self, orientation, location, strength):\n",
    "        \"\"\"\n",
    "        Init object: orientation (degrees), location (array), strength (scalar in Tesla)\n",
    "        \"\"\"\n",
    "        self.location = np.array(location)\n",
    "        self.orientation_d = orientation\n",
    "        self.orientation_r = np.deg2rad(orientation)\n",
    "        self.strength = strength\n",
    "        self.moment = np.array([strength * np.cos(self.orientation_r), strength * np.sin(self.orientation_r), 0])\n",
    "        Dipole.count += 1\n",
    "\n",
    "    def __repr__(self):\n",
    "        \"\"\"Sets string representation of the instance\"\"\"\n",
    "        return (\"Dipole object:  Location: {}\\n\\\n",
    "                Orientation: {:.2f} degrees\\n\\\n",
    "                Strength: {:.3e} T\\n\\\n",
    "                Moment: {}\".format(self.location, self.orientation_d, self.strength, self.moment))\n",
    "\n",
    "    def get_mag_field(self, target):\n",
    "        \"\"\"Gets magnetic field at target location (x, y, z)\"\"\"\n",
    "        # Check that coordinates are same dimension\n",
    "        if not len(target)==len(self.location):\n",
    "            raise ValueError(\"Target location and dipole location must be given in the same dimensions\")\n",
    "        mag_perm = 4*np.pi*10**-7  # Cancel constant terms to get mag_perm as only constant\n",
    "        relative_loc = np.subtract(np.array(target), self.location)\n",
    "        magnitude = get_mag(relative_loc)\n",
    "        return (mag_perm/4*np.pi) * (\n",
    "                (3*relative_loc*(np.dot(self.moment, relative_loc)) / (magnitude**5))\n",
    "                - (self.moment / (magnitude**3))\n",
    "                )\n",
    "\n",
    "    def get_relative_loc(self, other):\n",
    "        return other.location - self.location\n"
   ]
  },
  {
   "cell_type": "markdown",
   "metadata": {},
   "source": [
    "### Grid class (WiP)\n",
    "Creates a grid into which the dipoles can be placed\n"
   ]
  },
  {
   "cell_type": "code",
   "execution_count": 23,
   "metadata": {},
   "outputs": [
    {
     "name": "stdout",
     "output_type": "stream",
     "text": [
      "[[0. 0.]\n",
      " [0. 0.]]\n"
     ]
    }
   ],
   "source": [
    "class Grid(object):\n",
    "    def __init__(self, width, height):\n",
    "        self.width = width\n",
    "        self.height = height\n",
    "    \n",
    "    def __repr__(self):\n",
    "        #widthheight = f\"Width: {self.width}, Height: {self.height}\"\n",
    "        #rowscols = f\"x points: {self.cols}, y points: {self.rows}\"\n",
    "        #return widthheight + \"\\n\" + rowscols\n",
    "        return str(self.points)\n",
    "    \n",
    "    def add_points(self, x_points, y_points):\n",
    "        self.cols = np.linspace(0, self.width, x_points)\n",
    "        self.rows = np.linspace(0, self.height, y_points)\n",
    "        self.points = np.zeros([x_points, y_points])\n",
    "\n",
    "g = Grid(100, 100)\n",
    "g.add_points(2, 2)\n",
    "print(g)"
   ]
  },
  {
   "cell_type": "markdown",
   "metadata": {},
   "source": [
    "### General functions"
   ]
  },
  {
   "cell_type": "code",
   "execution_count": 24,
   "metadata": {},
   "outputs": [],
   "source": [
    "def get_unit(vector):\n",
    "    norm = np.linalg.norm(vector)\n",
    "    if norm == 0: \n",
    "       return vector\n",
    "    return vector / norm\n",
    "\n",
    "def get_mag(vector):\n",
    "    return np.sqrt(vector.dot(vector))\n",
    "\n",
    "def get_dir_2d(vector):\n",
    "    return np.arctan(vector[1]/vector[0])"
   ]
  },
  {
   "cell_type": "code",
   "execution_count": 41,
   "metadata": {},
   "outputs": [],
   "source": [
    "def get_field_values(x_array, y_array, dipole_dict, resolution=10):\n",
    "    # Loop over points in grid and get field at each point\n",
    "    field_x = np.zeros([len(x_array), len(y_array)])\n",
    "    field_y = np.zeros_like(field_x)\n",
    "    try:\n",
    "        for i, x in enumerate(x_array[::resolution]):\n",
    "            for j, y in enumerate(y_array[::resolution]):\n",
    "                for coord, dipole in dipole_dict.items():\n",
    "                    field_at_point = dipole.get_mag_field(target=[x, y, 100e-6])\n",
    "                    field_x[i][j] += field_at_point[0]\n",
    "                    field_y[i][j] += field_at_point[1]\n",
    "    # Catches errors without crashing\n",
    "    except TypeError as e:\n",
    "        print(\"======ERROR======\")\n",
    "        print(\"i, x\", i, x)\n",
    "        print(\"j, y\", j, y)\n",
    "        print(field_at_point)\n",
    "        raise\n",
    "    return field_x, field_y"
   ]
  },
  {
   "cell_type": "markdown",
   "metadata": {},
   "source": [
    "### Function to create the dipole grid"
   ]
  },
  {
   "cell_type": "code",
   "execution_count": 42,
   "metadata": {},
   "outputs": [],
   "source": [
    "def create_dipole_grid(x_array, y_array, strength=1e-3, dipole_spacing=40, buffer=20, random_angle=False):\n",
    "    \"\"\"\n",
    "    Creates a grid of dipoles\n",
    "    Places a dipole every {dipole_spacing} on the x/y array with a buffer around the edges\n",
    "    \"\"\"\n",
    "    start = time.time()\n",
    "    dipole_dict = {}\n",
    "    angle = 0\n",
    "    for x in x_array[buffer:-buffer:dipole_spacing]:\n",
    "        for y in y_array[buffer:-buffer:dipole_spacing]:\n",
    "            if random_angle:\n",
    "                angle = np.random.randint(0, 361)\n",
    "            dipole_dict[\"{}, {}\".format(x, y)] = Dipole(orientation=angle,\n",
    "                                                        location=[x, y, 0],\n",
    "                                                        strength=strength)\n",
    "    print(\"Made all dipoles\")\n",
    "    # Creating grids to store the field values and directions\n",
    "    field_x, field_y = get_field_values(x_array, y_array, dipole_dict, resolution=20)\n",
    "    \n",
    "    end = time.time()\n",
    "    time_taken = end-start\n",
    "    print(\"Made {} dipoles in {}s\".format(Dipole.count, time_taken))\n",
    "    \n",
    "    # Clear dipole count for next iteration\n",
    "    Dipole.count = 0\n",
    "    \n",
    "    return dipole_dict, field_x, field_y"
   ]
  },
  {
   "cell_type": "markdown",
   "metadata": {},
   "source": [
    "##### Creating dipole grids\n",
    "Aligned and random orientations"
   ]
  },
  {
   "cell_type": "code",
   "execution_count": 58,
   "metadata": {
    "scrolled": false
   },
   "outputs": [
    {
     "name": "stdout",
     "output_type": "stream",
     "text": [
      "Made all dipoles\n",
      "Made 0 dipoles in 0.018917560577392578s\n",
      "Made all dipoles\n",
      "Made 0 dipoles in 0.001232147216796875s\n"
     ]
    }
   ],
   "source": [
    "Nx, Ny = 100, 100\n",
    "side_length = 2e-3\n",
    "x_array = np.linspace(-side_length, side_length, Nx)\n",
    "y_array = np.linspace(-side_length, side_length, Ny)\n",
    "\n",
    "dipoles_aligned, field_x_aligned, field_y_aligned = create_dipole_grid(x_array, y_array,\n",
    "                                                      dipole_spacing=50, random_angle=False,\n",
    "                                                        strength=1e-2, buffer=0)\n",
    "dipoles_random,field_x_random, field_y_random = create_dipole_grid(x_array, y_array,\n",
    "                                                    dipole_spacing=50, random_angle=True,\n",
    "                                                        strength=1e-2, buffer=0)"
   ]
  },
  {
   "cell_type": "markdown",
   "metadata": {},
   "source": [
    "##### Calculating field strength for all points in grid"
   ]
  },
  {
   "cell_type": "code",
   "execution_count": 59,
   "metadata": {},
   "outputs": [],
   "source": [
    "strength_aligned = np.zeros_like(field_x_aligned)\n",
    "strength_aligned += np.sqrt(field_x_aligned**2 + field_y_aligned**2)\n",
    "\n",
    "strength_random = np.zeros_like(field_x_aligned)\n",
    "strength_random += np.sqrt(field_x_random**2 + field_y_random**2)"
   ]
  },
  {
   "cell_type": "code",
   "execution_count": 60,
   "metadata": {},
   "outputs": [
    {
     "data": {
      "text/plain": [
       "<Figure size 432x288 with 0 Axes>"
      ]
     },
     "execution_count": 60,
     "metadata": {},
     "output_type": "execute_result"
    },
    {
     "data": {
      "text/plain": [
       "<Figure size 432x288 with 0 Axes>"
      ]
     },
     "metadata": {},
     "output_type": "display_data"
    }
   ],
   "source": [
    "plt.figure()\n"
   ]
  },
  {
   "cell_type": "markdown",
   "metadata": {},
   "source": [
    "### Plotting the field lines"
   ]
  },
  {
   "cell_type": "code",
   "execution_count": 62,
   "metadata": {
    "scrolled": true
   },
   "outputs": [
    {
     "data": {
      "image/png": "[encoded data removed]",
      "text/plain": [
       "<Figure size 432x288 with 1 Axes>"
      ]
     },
     "metadata": {
      "needs_background": "light"
     },
     "output_type": "display_data"
    },
    {
     "data": {
      "image/png": "[encoded data removed]",
      "text/plain": [
       "<Figure size 432x288 with 1 Axes>"
      ]
     },
     "metadata": {
      "needs_background": "light"
     },
     "output_type": "display_data"
    }
   ],
   "source": [
    "fig1, ax1 = plt.subplots(1, 1, sharey=True)\n",
    "fig2, ax2 = plt.subplots(1, 1, sharey=True)\n",
    "\n",
    "# STREAMPLOT\n",
    "aligned = ax1.streamplot(x_array, y_array,\n",
    "               field_y_aligned, field_x_aligned,\n",
    "               density=3)\n",
    "\n",
    "\n",
    "random = ax2.streamplot(x_array, y_array, field_y_random, field_x_random,\n",
    "               density=3)\n",
    "\n",
    "# DIRECTIONAL ARROW SHOWING DIPOLE\n",
    "for coord, dip in dipoles_aligned.items():\n",
    "    x, y = dip.location[1], dip.location[0]\n",
    "    angle = dip.orientation_d + 90\n",
    "    ax1.quiver(x, y, dip.moment[1]*2, dip.moment[0]*2,\n",
    "               angles=angle, color=\"r\", alpha=0.7)\n",
    "    \n",
    "for coord, dip in dipoles_random.items():\n",
    "    x, y = dip.location[1], dip.location[0]\n",
    "    angle = dip.orientation_d + 90\n",
    "    ax2.quiver(x, y, dip.moment[1]*2, dip.moment[0]*2,\n",
    "               angles=angle, color=\"r\", alpha=0.7)\n",
    "\n",
    "# SETTING PLOT SIZE AND FORMAT\n",
    "ax1.set_xlim(-side_length-(side_length/10), side_length+(side_length/10))\n",
    "ax1.set_ylim(-side_length-(side_length/10), side_length+(side_length/10))\n",
    "ax2.set_xlim(-side_length-(side_length/10), side_length+(side_length/10))\n",
    "ax2.set_ylim(-side_length-(side_length/10), side_length+(side_length/10))\n",
    "plt.show()"
   ]
  },
  {
   "cell_type": "code",
   "execution_count": null,
   "metadata": {},
   "outputs": [],
   "source": [
    "plt.figure()\n",
    "plt.imshow(strength_aligned, cmap=\"hot\", norm=colors.LogNorm(vmin=strength_aligned.min(),vmax=strength_aligned.max()))\n",
    "\n",
    "plt.figure()\n",
    "plt.imshow(strength_random, cmap=\"hot\", norm=colors.LogNorm(vmin=strength_random.min(),vmax=strength_random.max()))"
   ]
  },
  {
   "cell_type": "code",
   "execution_count": null,
   "metadata": {},
   "outputs": [],
   "source": []
  }
 ],
 "metadata": {
  "kernelspec": {
   "display_name": "Python 3",
   "language": "python",
   "name": "python3"
  },
  "language_info": {
   "codemirror_mode": {
    "name": "ipython",
    "version": 3
   },
   "file_extension": ".py",
   "mimetype": "text/x-python",
   "name": "python",
   "nbconvert_exporter": "python",
   "pygments_lexer": "ipython3",
   "version": "3.7.4"
  }
 },
 "nbformat": 4,
 "nbformat_minor": 1
}
