{
 "cells": [
  {
   "cell_type": "markdown",
   "metadata": {},
   "source": [
    "### Creating and testing magnetic dipoles and grid system"
   ]
  },
  {
   "cell_type": "code",
   "execution_count": 74,
   "metadata": {},
   "outputs": [],
   "source": [
    "%matplotlib inline\n",
    "import numpy as np\n",
    "import matplotlib.pyplot as plt\n",
    "import matplotlib as mpl\n",
    "import matplotlib.colors as colors\n",
    "import time\n",
    "\n",
    "from Modules.muon import Muon\n",
    "from Modules.positron import Positron\n",
    "import Modules.functions as func\n",
    "\n",
    "from mpl_toolkits.mplot3d import Axes3D\n",
    "from scipy.optimize import curve_fit\n",
    "\n",
    "# Setting graph defaults to avoid repetition on each plot\n",
    "mpl.rcParams[\"axes.formatter.limits\"] = -2, 2  # Sets xticks to use exponents\n",
    "mpl.rcParams[\"axes.grid\"] = True  # Turns grid on\n",
    "mpl.rcParams[\"legend.loc\"] = \"best\"  # Turns legend on and autoplaces it"
   ]
  },
  {
   "cell_type": "markdown",
   "metadata": {},
   "source": [
    "### Dipole class\n",
    "Creates a dipole of some strength, with a given orientation and location\n",
    "The magnetic moment \"m\" is calculated by:\n",
    "$m = [r cos(\\theta), r sin(\\theta)]$<br>\n",
    "Where $r$ is the strength and $\\theta$ is the angle from the x axis<br>\n",
    "\n",
    "The method \"get_mag_field()\" returns the magnetic field due to the dipole at a given point in space."
   ]
  },
  {
   "cell_type": "code",
   "execution_count": 75,
   "metadata": {},
   "outputs": [],
   "source": [
    "class Dipole(object):\n",
    "    \"\"\"\n",
    "    Creates dipole:\n",
    "    location = (pos_x, pos_y)\n",
    "    orientation and length = pole_separation\n",
    "    \"\"\"\n",
    "    count = 0\n",
    "    def __init__(self, orientation, location, strength):\n",
    "        \"\"\"\n",
    "        Init object: orientation (degrees), location (array), strength (scalar in Tesla)\n",
    "        \"\"\"\n",
    "        self.location = np.array(location)\n",
    "        self.orientation_d = orientation\n",
    "        self.orientation_r = np.deg2rad(orientation)\n",
    "        self.strength = strength\n",
    "        self.moment = np.array([strength * np.cos(self.orientation_r), strength * np.sin(self.orientation_r), 0])\n",
    "        Dipole.count += 1\n",
    "\n",
    "    def __repr__(self):\n",
    "        \"\"\"Sets string representation of the instance\"\"\"\n",
    "        return (\"Dipole object:  Location: {}\\n\\\n",
    "                Orientation: {:.2f} degrees\\n\\\n",
    "                Strength: {:.3e} T\\n\\\n",
    "                Moment: {}\".format(self.location, self.orientation_d, self.strength, self.moment))\n",
    "\n",
    "    def get_mag_field(self, target):\n",
    "        \"\"\"Gets magnetic field at target location (x, y, z)\"\"\"\n",
    "        # Check that coordinates are same dimension\n",
    "        if not len(target)==len(self.location):\n",
    "            raise ValueError(\"Target location and dipole location must be given in the same dimensions\")\n",
    "        mag_perm = 4*np.pi*10**-7  # Cancel constant terms to get mag_perm as only constant\n",
    "        relative_loc = np.subtract(np.array(target), self.location)\n",
    "        magnitude = get_mag(relative_loc)\n",
    "        return (mag_perm/4*np.pi) * (\n",
    "                (3*relative_loc*(np.dot(self.moment, relative_loc)) / (magnitude**5))\n",
    "                - (self.moment / (magnitude**3))\n",
    "                )\n",
    "\n",
    "    def get_relative_loc(self, other):\n",
    "        return other.location - self.location\n"
   ]
  },
  {
   "cell_type": "markdown",
   "metadata": {},
   "source": [
    "### Grid class (WiP)\n",
    "Creates a grid into which the dipoles can be placed\n"
   ]
  },
  {
   "cell_type": "code",
   "execution_count": 76,
   "metadata": {},
   "outputs": [
    {
     "name": "stdout",
     "output_type": "stream",
     "text": "[[0 0 0 0 0 0 0 0 0 0]\n [0 0 0 0 0 0 0 0 0 0]\n [0 0 0 0 0 0 0 0 0 0]\n [0 0 0 0 0 0 0 0 0 0]\n [0 0 0 0 0 0 0 0 0 0]\n [0 0 0 0 0 0 0 0 0 0]\n [0 0 0 0 0 0 0 0 0 0]\n ['Ox' 0 0 0 0 0 0 0 0 0]\n [0 0 0 0 0 0 0 0 0 0]\n [0 0 0 0 0 0 0 0 0 0]]\n"
    }
   ],
   "source": [
    "class Grid(object):\n",
    "    def __init__(self, width, height):\n",
    "        self.width = width\n",
    "        self.height = height\n",
    "        self.add_points(width, height)\n",
    "    \n",
    "    def __repr__(self):\n",
    "        #widthheight = f\"Width: {self.width}, Height: {self.height}\"\n",
    "        #rowscols = f\"x points: {self.cols}, y points: {self.rows}\"\n",
    "        #return widthheight + \"\\n\" + rowscols\n",
    "        return str(self.points)\n",
    "    \n",
    "    def add_to_point(self, x, y, new_value):\n",
    "        # Makes addition to preexisting cell\n",
    "        cur_value = self.get_point(x, y)\n",
    "        self.change_point([x, y], cur_value + new_value)\n",
    "    \n",
    "    def add_points(self, x_points, y_points):\n",
    "        self.points = np.zeros([x_points, y_points], dtype=object)\n",
    "    \n",
    "    def convert_y(self, y):\n",
    "        return int(self.height - 1 - y)\n",
    "    \n",
    "    def change_point(self, location, value):\n",
    "        x, y = location\n",
    "        y = self.convert_y(y)\n",
    "        self.points[y][x] = value\n",
    "\n",
    "    def all_coords(self):\n",
    "        for x in range(self.width):\n",
    "            for y in range(self.height):\n",
    "                yield (x, y)\n",
    "    \n",
    "    def get_point(self, x, y):\n",
    "        y = self.convert_y(y)\n",
    "        return self.points[y][x]\n",
    "\n",
    "\n",
    "g = Grid(10, 10)\n",
    "#g.add_points(3, 3)\n",
    "g.change_point([0, 2], \"x\")\n",
    "temp = g.get_point(0, 2)\n",
    "temp = \"O\"\n",
    "g.change_point((0, 2), temp)\n",
    "g.add_to_point(0, 2, \"x\")\n",
    "print(g)"
   ]
  },
  {
   "cell_type": "markdown",
   "metadata": {},
   "source": [
    "### General functions"
   ]
  },
  {
   "cell_type": "code",
   "execution_count": 77,
   "metadata": {},
   "outputs": [],
   "source": [
    "\n",
    "def set_unit(vector):\n",
    "    norm = np.linalg.norm(vector)\n",
    "    if norm == 0: \n",
    "       return vector\n",
    "    return vector / norm\n",
    "\n",
    "def get_mag(vector):\n",
    "    return np.sqrt(vector.dot(vector))\n",
    "\n",
    "def set_dir_2d(vector):\n",
    "    return np.arctan(vector[1]/vector[0])"
   ]
  },
  {
   "cell_type": "code",
   "execution_count": 78,
   "metadata": {},
   "outputs": [
    {
     "data": {
      "text/plain": "'\\ndef set_field_values(x_array, y_array, dipole_dict, resolution=10):\\n    # Loop over points in grid and get field at each point\\n    field_x = np.zeros([len(x_array), len(y_array)])\\n    field_y = np.zeros_like(field_x)\\n    try:\\n        for i, x in enumerate(x_array[::resolution]):\\n            for j, y in enumerate(y_array[::resolution]):\\n                for coord, dipole in dipole_dict.items():\\n                    field_at_point = dipole.get_mag_field(target=[x, y, 100e-6])\\n                    field_x[i][j] += field_at_point[0]\\n                    field_y[i][j] += field_at_point[1]\\n    # Catches errors without crashing\\n    except TypeError as e:\\n        print(\"======ERROR======\")\\n        print(\"i, x\", i, x)\\n        print(\"j, y\", j, y)\\n        print(field_at_point)\\n        raise\\n    return field_x, field_y\\n'"
     },
     "execution_count": 78,
     "metadata": {},
     "output_type": "execute_result"
    }
   ],
   "source": [
    "def set_field_values(x_array, y_array, dipole_grid, resolution=10):\n",
    "    # Loop over points in grid and get field at each point\n",
    "    field_x = x_array[::resolution]\n",
    "    field_y = y_array[::resolution]\n",
    "    field = Grid(len(field_x), len(field_y))\n",
    "    for i, x in enumerate(field_x):\n",
    "        for j, y in enumerate(field_y):\n",
    "            for coord in dipole_grid.all_coords():\n",
    "                target_dipole = dipole_grid.get_point(*coord)\n",
    "                field_to_add = target_dipole.get_mag_field(target=[x, y, 100e-6])\n",
    "                field.add_to_point(i, j, field_to_add)\n",
    "    return field\n",
    "\n",
    "Nx, Ny = 101, 101\n",
    "side_length = 2e-3\n",
    "x_array = np.linspace(-side_length, side_length, Nx)\n",
    "y_array = np.linspace(-side_length, side_length, Ny)\n",
    "\n"
   ]
  },
  {
   "cell_type": "markdown",
   "metadata": {},
   "source": [
    "### Function to create the dipole grid"
   ]
  },
  {
   "cell_type": "code",
   "execution_count": 93,
   "metadata": {},
   "outputs": [],
   "source": [
    "def create_dipole_grid(x_array, y_array, strength=1e-3, dipole_spacing=40, buffer=20, random_angle=False, angle=0, field_res=1):\n",
    "    \"\"\"\n",
    "    Creates a grid of dipoles\n",
    "    Places a dipole every {dipole_spacing} on the x/y array with a buffer around the edges\n",
    "    \"\"\"\n",
    "    start = time.time()\n",
    "    dipole_x_pos = x_array[buffer:-buffer:dipole_spacing]\n",
    "    dipole_y_pos = y_array[buffer:-buffer:dipole_spacing]\n",
    "\n",
    "    dipole_grid = Grid(len(dipole_x_pos), len(dipole_y_pos))\n",
    "    for i, x in enumerate(dipole_x_pos):\n",
    "        for j, y in enumerate(dipole_y_pos):\n",
    "            if random_angle:\n",
    "                angle = np.random.randint(0, 361)\n",
    "            print(i, j)\n",
    "            dipole_grid.change_point((i, j), Dipole(orientation=angle,location=[x, y, 0],strength=strength))\n",
    "    mid = time.time()\n",
    "    print(\"Made {} dipoles in {:.3}s\".format(Dipole.count, mid-start))\n",
    "    return dipole_grid\n",
    "\n",
    "\n",
    "#field = set_field_values(x_array, y_array, dipole_grid, resolution=field_res)\n",
    "#Nx, Ny = 1000, 1000\n",
    "#side_length = 2e-3\n",
    "#x_array = np.linspace(-side_length, side_length, Nx)\n",
    "#y_array = np.linspace(-side_length, side_length, Ny)\n",
    "#d_grid = create_dipole_grid(x_array, y_array)\n"
   ]
  },
  {
   "cell_type": "markdown",
   "metadata": {},
   "source": [
    "##### Creating dipole grids\n",
    "Aligned and random orientations"
   ]
  },
  {
   "cell_type": "code",
   "execution_count": 94,
   "metadata": {},
   "outputs": [
    {
     "name": "stdout",
     "output_type": "stream",
     "text": "Made 0 dipoles in 4.01e-05s\nMade 0 dipoles in 2.19e-05s\n[]\n"
    }
   ],
   "source": [
    "Nx, Ny = 101, 101\n",
    "side_length = 2e-3\n",
    "x_array = np.linspace(-side_length, side_length, Nx)\n",
    "y_array = np.linspace(-side_length, side_length, Ny)\n",
    "\n",
    "dipoles_aligned = create_dipole_grid(x_array, y_array,\n",
    "                                    dipole_spacing=10,\n",
    "                                    random_angle=False,\n",
    "                                    strength=1e-2,\n",
    "                                    buffer=0)\n",
    "dipoles_random = create_dipole_grid(x_array, y_array,\n",
    "                                   dipole_spacing=10,\n",
    "                                   random_angle=True,\n",
    "                                   strength=1e-2,\n",
    "                                   buffer=0)\n",
    "\n",
    "print(dipoles_random)"
   ]
  },
  {
   "cell_type": "markdown",
   "metadata": {},
   "source": [
    "##### Calculating field strength for all points in grid"
   ]
  },
  {
   "cell_type": "code",
   "execution_count": 81,
   "metadata": {},
   "outputs": [
    {
     "ename": "NameError",
     "evalue": "name 'field_x_aligned' is not defined",
     "output_type": "error",
     "traceback": [
      "\u001b[0;31m---------------------------------------------------------------------------\u001b[0m",
      "\u001b[0;31mNameError\u001b[0m                                 Traceback (most recent call last)",
      "\u001b[0;32m<ipython-input-81-4cd5fadeca2a>\u001b[0m in \u001b[0;36m<module>\u001b[0;34m\u001b[0m\n\u001b[0;32m----> 1\u001b[0;31m \u001b[0mstrength_aligned\u001b[0m \u001b[0;34m=\u001b[0m \u001b[0mnp\u001b[0m\u001b[0;34m.\u001b[0m\u001b[0mzeros_like\u001b[0m\u001b[0;34m(\u001b[0m\u001b[0mfield_x_aligned\u001b[0m\u001b[0;34m)\u001b[0m\u001b[0;34m\u001b[0m\u001b[0;34m\u001b[0m\u001b[0m\n\u001b[0m\u001b[1;32m      2\u001b[0m \u001b[0mstrength_aligned\u001b[0m \u001b[0;34m+=\u001b[0m \u001b[0mnp\u001b[0m\u001b[0;34m.\u001b[0m\u001b[0msqrt\u001b[0m\u001b[0;34m(\u001b[0m\u001b[0mfield_x_aligned\u001b[0m\u001b[0;34m**\u001b[0m\u001b[0;36m2\u001b[0m \u001b[0;34m+\u001b[0m \u001b[0mfield_y_aligned\u001b[0m\u001b[0;34m**\u001b[0m\u001b[0;36m2\u001b[0m\u001b[0;34m)\u001b[0m\u001b[0;34m\u001b[0m\u001b[0;34m\u001b[0m\u001b[0m\n\u001b[1;32m      3\u001b[0m \u001b[0;34m\u001b[0m\u001b[0m\n\u001b[1;32m      4\u001b[0m \u001b[0mstrength_random\u001b[0m \u001b[0;34m=\u001b[0m \u001b[0mnp\u001b[0m\u001b[0;34m.\u001b[0m\u001b[0mzeros_like\u001b[0m\u001b[0;34m(\u001b[0m\u001b[0mfield_x_aligned\u001b[0m\u001b[0;34m)\u001b[0m\u001b[0;34m\u001b[0m\u001b[0;34m\u001b[0m\u001b[0m\n\u001b[1;32m      5\u001b[0m \u001b[0mstrength_random\u001b[0m \u001b[0;34m+=\u001b[0m \u001b[0mnp\u001b[0m\u001b[0;34m.\u001b[0m\u001b[0msqrt\u001b[0m\u001b[0;34m(\u001b[0m\u001b[0mfield_x_random\u001b[0m\u001b[0;34m**\u001b[0m\u001b[0;36m2\u001b[0m \u001b[0;34m+\u001b[0m \u001b[0mfield_y_random\u001b[0m\u001b[0;34m**\u001b[0m\u001b[0;36m2\u001b[0m\u001b[0;34m)\u001b[0m\u001b[0;34m\u001b[0m\u001b[0;34m\u001b[0m\u001b[0m\n",
      "\u001b[0;31mNameError\u001b[0m: name 'field_x_aligned' is not defined"
     ]
    }
   ],
   "source": [
    "strength_aligned = np.zeros_like(field_x_aligned)\n",
    "strength_aligned += np.sqrt(field_x_aligned**2 + field_y_aligned**2)\n",
    "\n",
    "strength_random = np.zeros_like(field_x_aligned)\n",
    "strength_random += np.sqrt(field_x_random**2 + field_y_random**2)"
   ]
  },
  {
   "cell_type": "code",
   "execution_count": null,
   "metadata": {},
   "outputs": [],
   "source": [
    "plt.figure()\n"
   ]
  },
  {
   "cell_type": "markdown",
   "metadata": {},
   "source": [
    "### Plotting the field lines"
   ]
  },
  {
   "cell_type": "code",
   "execution_count": null,
   "metadata": {},
   "outputs": [],
   "source": [
    "fig1, ax1 = plt.subplots(1, 1, sharey=True)\n",
    "fig2, ax2 = plt.subplots(1, 1, sharey=True)\n",
    "\n",
    "# STREAMPLOT\n",
    "aligned = ax1.streamplot(x_array, y_array,\n",
    "               field_y_aligned, field_x_aligned,\n",
    "               density=3)\n",
    "\n",
    "\n",
    "random = ax2.streamplot(x_array, y_array, field_y_random, field_x_random,\n",
    "               density=3)\n",
    "\n",
    "# DIRECTIONAL ARROW SHOWING DIPOLE\n",
    "for coord, dip in dipoles_aligned.items():\n",
    "    x, y = dip.location[1], dip.location[0]\n",
    "    angle = dip.orientation_d + 90\n",
    "    ax1.quiver(x, y, dip.moment[1]*2, dip.moment[0]*2,\n",
    "               angles=angle, color=\"r\", alpha=0.7)\n",
    "    \n",
    "for coord, dip in dipoles_random.items():\n",
    "    x, y = dip.location[1], dip.location[0]\n",
    "    angle = dip.orientation_d + 90\n",
    "    ax2.quiver(x, y, dip.moment[1]*2, dip.moment[0]*2,\n",
    "               angles=angle, color=\"r\", alpha=0.7)\n",
    "\n",
    "# SETTING PLOT SIZE AND FORMAT\n",
    "ax1.set_xlim(-side_length-(side_length/10), side_length+(side_length/10))\n",
    "ax1.set_ylim(-side_length-(side_length/10), side_length+(side_length/10))\n",
    "ax2.set_xlim(-side_length-(side_length/10), side_length+(side_length/10))\n",
    "ax2.set_ylim(-side_length-(side_length/10), side_length+(side_length/10))\n",
    "plt.show()"
   ]
  },
  {
   "cell_type": "code",
   "execution_count": null,
   "metadata": {},
   "outputs": [],
   "source": [
    "plt.figure()\n",
    "plt.imshow(strength_aligned, cmap=\"hot\", norm=colors.LogNorm(vmin=strength_aligned.min(),vmax=strength_aligned.max()))\n",
    "\n",
    "plt.figure()\n",
    "plt.imshow(strength_random, cmap=\"hot\", norm=colors.LogNorm(vmin=strength_random.min(),vmax=strength_random.max()))"
   ]
  },
  {
   "cell_type": "code",
   "execution_count": null,
   "metadata": {},
   "outputs": [],
   "source": []
  }
 ],
 "metadata": {
  "kernelspec": {
   "display_name": "Python 3.7.4 64-bit ('base': conda)",
   "language": "python",
   "name": "python37464bitbaseconda18e6533392ac47ad939f0e30bdba1d8b"
  },
  "language_info": {
   "codemirror_mode": {
    "name": "ipython",
    "version": 3
   },
   "file_extension": ".py",
   "mimetype": "text/x-python",
   "name": "python",
   "nbconvert_exporter": "python",
   "pygments_lexer": "ipython3",
   "version": "3.7.4-final"
  }
 },
 "nbformat": 4,
 "nbformat_minor": 1
}