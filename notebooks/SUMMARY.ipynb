{
 "cells": [
  {
   "cell_type": "code",
   "execution_count": 6,
   "metadata": {},
   "outputs": [
    {
     "name": "stdout",
     "output_type": "stream",
     "text": [
      "/home/josh/PycharmProjects/Muon_magnets\n"
     ]
    }
   ],
   "source": [
    "%cd /home/josh/PycharmProjects/Muon_magnets"
   ]
  },
  {
   "cell_type": "code",
   "execution_count": 19,
   "metadata": {},
   "outputs": [],
   "source": [
    "import numpy as np\n",
    "import matplotlib.pyplot as plt\n",
    "from scipy.optimize import curve_fit\n",
    "import time\n",
    "\n",
    "import modules.functions as func\n",
    "from modules.muon import Muon\n",
    "from modules.grid import Grid\n",
    "from modules.ensemble import Ensemble\n",
    "from modules.multi_process import MP_fields\n",
    "from modules.model_equations import static_GKT\n",
    "\n",
    "%matplotlib inline"
   ]
  },
  {
   "cell_type": "markdown",
   "metadata": {},
   "source": [
    "#### Muons in randomly generated fields"
   ]
  },
  {
   "cell_type": "code",
   "execution_count": 24,
   "metadata": {},
   "outputs": [
    {
     "name": "stdout",
     "output_type": "stream",
     "text": [
      "{'lifetime': 2e-05, 'spin_dir': array([ 0,  0, -1]), 'phase': 0, 'loc': array([0, 0, 0])}\n"
     ]
    }
   ],
   "source": [
    "muon = Muon(lifetime=20e-6)\n",
    "print(muon.__dict__)"
   ]
  },
  {
   "cell_type": "code",
   "execution_count": 29,
   "metadata": {},
   "outputs": [
    {
     "data": {
      "text/plain": [
       "Text(0.5, 1.0, 'Polarisation for single muon in 1mT field (+x dir)')"
      ]
     },
     "execution_count": 29,
     "metadata": {},
     "output_type": "execute_result"
    },
    {
     "data": {
      "image/png": "[encoded data removed]",
      "text/plain": [
       "<Figure size 432x288 with 1 Axes>"
      ]
     },
     "metadata": {
      "needs_background": "light"
     },
     "output_type": "display_data"
    }
   ],
   "source": [
    "muon.field = np.array([0.1e-3, 0 ,0])\n",
    "lifetime_polarisation = muon.full_relaxation(muon.field)  # Get the polarisation of the muon as a function of time\n",
    "\n",
    "time = np.linspace(0, muon.lifetime, muon.TIME_RESOLUTION)  # Create times to plot polarisation against\n",
    "\n",
    "fig, ax = plt.subplots()\n",
    "ax.plot(time, lifetime_polarisation)\n",
    "ax.ticklabel_format(axis=\"x\", style=\"sci\", scilimits=(-6, -6))\n",
    "\n",
    "ax.set_xlim(0, muon.lifetime)\n",
    "ax.set_xlabel(\"Time (s)\")\n",
    "ax.set_ylabel(\"Polarisation\")\n",
    "ax.set_title(\"Polarisation for single muon in 1mT field (+x dir)\")"
   ]
  },
  {
   "cell_type": "code",
   "execution_count": null,
   "metadata": {},
   "outputs": [],
   "source": []
  },
  {
   "cell_type": "code",
   "execution_count": null,
   "metadata": {},
   "outputs": [],
   "source": []
  },
  {
   "cell_type": "code",
   "execution_count": null,
   "metadata": {},
   "outputs": [],
   "source": [
    "LOAD_OBJECTS = False\n",
    "\n",
    "RUN_NAME = \"15X15_R_4\"\n",
    "\n",
    "if LOAD_OBJECTS:  # Load from file\n",
    "    island_grid = Grid(run_name=RUN_NAME, load_only=True)\n",
    "    particles = Ensemble(run_name=island_grid.run_name, load_only=True)\n",
    "\n",
    "else:  # Calculate and save grid and ensemble\n",
    "    NUM_MUONS = 20000\n",
    "    SPREAD_VALUES = {\"x_width\": 10e-6, \"y_width\": 10e-6, \"z_width\": 10e-6,\n",
    "                     \"x_mean\": 0, \"y_mean\": 0, \"z_mean\": 100e-6}\n",
    "    island_grid = Grid()\n",
    "    RUN_NAME = island_grid.run_name\n",
    "    particles = Ensemble(N=NUM_MUONS, spread_values=SPREAD_VALUES, run_name=RUN_NAME)\n",
    "    particles.set_generic(\"spin_dir\", [1, 0, 0])\n",
    "    particles.calculate_fields(island_grid)\n",
    "    particles.load_fields()"
   ]
  },
  {
   "cell_type": "code",
   "execution_count": null,
   "metadata": {},
   "outputs": [],
   "source": []
  },
  {
   "cell_type": "code",
   "execution_count": null,
   "metadata": {},
   "outputs": [],
   "source": []
  },
  {
   "cell_type": "code",
   "execution_count": null,
   "metadata": {},
   "outputs": [],
   "source": []
  }
 ],
 "metadata": {
  "kernelspec": {
   "display_name": "Python 3",
   "language": "python",
   "name": "python3"
  },
  "language_info": {
   "codemirror_mode": {
    "name": "ipython",
    "version": 3
   },
   "file_extension": ".py",
   "mimetype": "text/x-python",
   "name": "python",
   "nbconvert_exporter": "python",
   "pygments_lexer": "ipython3",
   "version": "3.7.6"
  }
 },
 "nbformat": 4,
 "nbformat_minor": 4
}
