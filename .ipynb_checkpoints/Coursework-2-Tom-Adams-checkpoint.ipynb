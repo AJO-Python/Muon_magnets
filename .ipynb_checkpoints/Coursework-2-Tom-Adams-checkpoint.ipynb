{
 "cells": [
  {
   "cell_type": "markdown",
   "metadata": {},
   "source": [
    "## Data Analysis 2019/2020 - Coursework 2 \n",
    "***\n",
    "## Deadline: Thursday 21st Nov 2pm"
   ]
  },
  {
   "cell_type": "markdown",
   "metadata": {},
   "source": [
    "#### Tips"
   ]
  },
  {
   "cell_type": "markdown",
   "metadata": {},
   "source": [
    "This coursework assesses the learning outcomes for Block B."
   ]
  },
  {
   "cell_type": "markdown",
   "metadata": {},
   "source": [
    "These assessments are equivalent to an exam:\n",
    "\n",
    "- Submit your work via Turn-It-In on Learning Central. Note that you will need to upload your final notebook exported as a html file. **Don't forget to click `run all` before you export it**. You can constantly update this document until the deadline.\n",
    "- Please put your name as the filename of the Jupyter notebook.\n",
    "- Please also take note of the University’s policy on plagiarism, which is outlined in your student handbook."
   ]
  },
  {
   "cell_type": "markdown",
   "metadata": {},
   "source": [
    "Marks are awarded for \n",
    "- Ability to identify the correct statistical method with sound reasoning.\n",
    "- Evidence of knowledge of the assumptions made or infered from the question.\n",
    "- Application of the statistical method, including correct treatment of the given / inferred data.  \n",
    "- Critical explanations and interpretation of the results.\n",
    "- All working, coding, figures etc must be included and you will need to accompany this with a succinct and tidy report explaining what you did and why.\n",
    "- Full marks can only be awarded where there is proof that the student understands the statistics and the data set that they are being asked to explore. Code, figures and any mathematics carried out count as workings, and must be included in the \n",
    "Jupyter notebook to obtain the relevant marks.  \n",
    "\n",
    "- Don't worry about how your code looks - marks are not given for pretty code, but rather for the approach used in solving the problem, your reasoning, explanation and answer"
   ]
  },
  {
   "cell_type": "markdown",
   "metadata": {},
   "source": [
    "***\n",
    "## QUESTION 1 \n",
    "***"
   ]
  },
  {
   "cell_type": "markdown",
   "metadata": {},
   "source": [
    "An MSc student working with Professor Whitworth in the field of star formation is performing computer simulations in which she is trying to create ‘multiple’ stellar systems — i.e. systems with 2 stars (binaries, $B$), 3 stars (triples, $T$) or higher number groups.  \n",
    "\n",
    "The goal of her experiment is to see how often star forming clouds (protostellar cores) give birth to multiple systems. Unfortunately, these simulations are extremely computationally expensive (each one takes 3 weeks of supercomputer time), and she is only able to run 3 simulations in total during her masters — each one following the evolution of a different core.  Each simulation is run until the core collapses under its own weight to form either a single star (S) or some multiple system, and accretes a given amount of mass from the core.  \n",
    "\n",
    "She finds that in her 3 simulations, only single stars are formed. The common form of expressing the multiplicity properties of stars is the ‘multiplicity fraction’, $m$, which is given by\n",
    "\n",
    "$m = \\dfrac{(B + T + …)}{(S + B + T)}$ \n",
    "\n",
    "which is simply the probability of an stellar system being a multiple system.  In our local patch of the galaxy, the value of $m$ is observed to be roughly 0.5, but this has only been measured for stars that are more massive than those found in the modeller’s simulations. What can the researcher say about the mean and standard deviation of $m$ given the outcome of her simulations?\n",
    "\n",
    "**Hint**: you will need to use Bayes theorem. Your result will depend on your choice of prior, so be sure to discuss your choice.\n",
    "\n",
    "[40 marks]"
   ]
  },
  {
   "cell_type": "markdown",
   "metadata": {},
   "source": [
    "#### Answer:"
   ]
  },
  {
   "cell_type": "code",
   "execution_count": null,
   "metadata": {},
   "outputs": [],
   "source": [
    "#m=0.5\n",
    "#3 simulations only returning single stars\n",
    "\n"
   ]
  },
  {
   "cell_type": "markdown",
   "metadata": {},
   "source": [
    "***\n",
    "## QUESTION 2\n",
    "***"
   ]
  },
  {
   "cell_type": "markdown",
   "metadata": {},
   "source": [
    "Professor Dumbledore, studying the extinction of the elephant bird, discovers a new set of egg remnants in an unexplored valley in Madagascar. The remnants are radio carbon dayed and found to have the following ages in years:\n",
    "\n",
    "2141.22, 1781.15, 1523.37, 1816.90, 1932.29, 1541.21, 720.782, 1026.22, 1687.22, 2460.59\n",
    "\n",
    "Professor Snape however did a previous study in the next valley where he found eggs that were on average 1200 years old, following a normal distribution with standard deviation of 300 years. \n",
    "\n",
    "What is the mean and standard deviation of the age of elephant bird eggs based on this information?\n",
    "\n",
    "**Tip a** Write down an analytical expression for the mean and standard deviation of the age of the new eggs for the posterior distribution that takes into account both Professor Dumbeldore's new data and the previous age estimate from Professor Snape (all the equations are given in the notes).\n",
    "\n",
    "**Tip b**: Write an MCMC algorithm from scratch and use it to create a posterior distribution for the mean age of the eggs.  Discuss your results.\n",
    "\n",
    "[75 marks]"
   ]
  },
  {
   "cell_type": "markdown",
   "metadata": {},
   "source": [
    "#### Answer:"
   ]
  },
  {
   "cell_type": "code",
   "execution_count": 35,
   "metadata": {},
   "outputs": [
    {
     "name": "stdout",
     "output_type": "stream",
     "text": [
      "1756.4218511141619 18338.78428810763\n"
     ]
    },
    {
     "data": {
      "image/png": "[encoded data removed]",
      "text/plain": [
       "<Figure size 432x288 with 1 Axes>"
      ]
     },
     "metadata": {
      "needs_background": "light"
     },
     "output_type": "display_data"
    },
    {
     "data": {
      "image/png": "[encoded data removed]",
      "text/plain": [
       "<Figure size 432x288 with 1 Axes>"
      ]
     },
     "metadata": {
      "needs_background": "light"
     },
     "output_type": "display_data"
    }
   ],
   "source": [
    "import numpy as np\n",
    "import matplotlib.pyplot as plt\n",
    "\n",
    "# Initial data\n",
    "h = [2141.22, 1781.15, 1523.37, 1816.90, 1932.29, 1541.21, 720.782, 1026.22, 1687.22, 2460.59]\n",
    "var0, mean0, std0 = 300**2,1200,300\n",
    "\n",
    "# Calculate parameters of initial data\n",
    "n = len(h)\n",
    "var1, mean1, std1 = np.var(h), np.mean(h), np.std(h)\n",
    "\n",
    "# Functions\n",
    "def func(var0, mean0, std0, var1, mean1, std1):\n",
    "    var2 = var0*var1/n/(var0 + var1/n)\n",
    "    mean2 = var0*mean1/(var0 + var0/n) + var1/n*mean0/(var0 + var1/n)\n",
    "    return [var2, mean2]\n",
    "\n",
    "def get_posterior(x, mu, sigma):\n",
    "    return (1/np.sqrt(2*np.pi*sigma**2))*np.exp(-(x-mu)**2/(2*sigma**2))\n",
    "\n",
    "\n",
    "mu, sigma = func(var0, mean0, std0, var1, mean1, std1)[1], func(var0, mean0, std0, var1, mean1, std1)[0]\n",
    "print(mu, sigma)\n",
    "s = np.random.normal(mu, sigma, 1000)\n",
    "plt.hist(s, bins = 100)\n",
    "plt.show()\n",
    "\n",
    "step = 10000\n",
    "prob = np.zeros(step)\n",
    "height = np.zeros(step)\n",
    "start = 2100\n",
    "for i in range(step-1):\n",
    "    size = np.random.normal(0.0,2.0)\n",
    "    prob[i] = get_posterior(start, mu, sigma)\n",
    "    prob[i+1] = get_posterior(start + size, mu, sigma)\n",
    "    if prob[i]<=prob[i+1]:\n",
    "        prob[i+1] = prob[i]\n",
    "        start = start + size\n",
    "        height[i] = start + size\n",
    "    if prob[i]>prob[i+1]:\n",
    "        rand = np.random.uniform(0.0, 2.0)\n",
    "        p = prob[i+1]/prob[i]\n",
    "        \"\"\"\n",
    "        You set prob[i+1] = prob[i+1] here\n",
    "        Not sure if intentional?\n",
    "        \"\"\"\n",
    "        if p >= rand:\n",
    "            prob[i+1] = prob[i+1]\n",
    "            start = start + size\n",
    "            height[i] = start + size\n",
    "        else:\n",
    "            prob[i+1] = prob[i]\n",
    "            start = start\n",
    "            height[i] = start\n",
    "height1=np.zeros(step)\n",
    "start1 = 1100\n",
    "for i in range(step-1):\n",
    "    size = np.random.normal(0.0,2.0)\n",
    "    prob[i] = get_posterior(start1, mu, sigma)\n",
    "    prob[i+1] = get_posterior(start1 + size, mu, sigma)\n",
    "    if prob[i]<=prob[i+1]:\n",
    "        prob[i+1] = prob[i]\n",
    "        start1 = start1 + size\n",
    "        height1[i] = start1 + size\n",
    "    if prob[i]>prob[i+1]:\n",
    "        rand = np.random.uniform(0.0, 2.0)\n",
    "        p = prob[i+1]/prob[i]\n",
    "        if p >= rand:\n",
    "            prob[i+1] = prob[i+1]\n",
    "            start1 = start1 + size\n",
    "            height1[i] = start1 + size\n",
    "        else:\n",
    "            prob[i+1] = prob[i]\n",
    "            start1 = start1\n",
    "            height1[i] = start1\n",
    "            \n",
    "i = np.arange(step-1)\n",
    "plt.plot(height[:-1], i,label='start')\n",
    "plt.plot(height1[:-1],i,label='start1')\n",
    "plt.yscale('log')\n",
    "plt.legend(loc='best')\n",
    "plt.grid()\n",
    "plt.show()"
   ]
  },
  {
   "cell_type": "code",
   "execution_count": 39,
   "metadata": {},
   "outputs": [
    {
     "data": {
      "image/png": "[encoded data removed]",
      "text/plain": [
       "<Figure size 432x288 with 1 Axes>"
      ]
     },
     "metadata": {
      "needs_background": "light"
     },
     "output_type": "display_data"
    }
   ],
   "source": [
    "x=height[:-1]\n",
    "y=i\n",
    "fig, ax = plt.subplots()\n",
    "ax.plot(x,y)\n",
    "def annot_max(x,y, ax=None):\n",
    "    xmax = x[np.argmax(y)]\n",
    "    ymax = y.max()\n",
    "    text= \"x={:.3f}, y={:.3f}\".format(xmax, ymax)\n",
    "    if not ax:\n",
    "        ax=plt.gca()\n",
    "    bbox_props = dict(boxstyle=\"square,pad=0.3\", fc=\"w\", ec=\"k\", lw=0.72)\n",
    "    arrowprops=dict(arrowstyle=\"->\",connectionstyle=\"angle,angleA=0,angleB=60\")\n",
    "    kw = dict(xycoords='data',textcoords=\"axes fraction\",\n",
    "              arrowprops=arrowprops, bbox=bbox_props, ha=\"right\", va=\"top\")\n",
    "    ax.annotate(text, xy=(xmax, ymax), xytext=(0.94,0.96), **kw)\n",
    "\n",
    "annot_max(x,y)\n",
    "\n",
    "plt.show()"
   ]
  },
  {
   "cell_type": "code",
   "execution_count": null,
   "metadata": {},
   "outputs": [],
   "source": []
  },
  {
   "cell_type": "code",
   "execution_count": null,
   "metadata": {},
   "outputs": [],
   "source": []
  },
  {
   "cell_type": "code",
   "execution_count": null,
   "metadata": {},
   "outputs": [],
   "source": []
  }
 ],
 "metadata": {
  "kernelspec": {
   "display_name": "Python 3",
   "language": "python",
   "name": "python3"
  },
  "language_info": {
   "codemirror_mode": {
    "name": "ipython",
    "version": 3
   },
   "file_extension": ".py",
   "mimetype": "text/x-python",
   "name": "python",
   "nbconvert_exporter": "python",
   "pygments_lexer": "ipython3",
   "version": "3.7.1"
  }
 },
 "nbformat": 4,
 "nbformat_minor": 2
}
